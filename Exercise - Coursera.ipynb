{
 "cells": [
  {
   "cell_type": "markdown",
   "metadata": {},
   "source": [
    "<center>\n",
    "    <img src=\"https://cf-courses-data.s3.us.cloud-object-storage.appdomain.cloud/IBMDeveloperSkillsNetwork-DS0105EN-SkillsNetwork/labs/Module2/images/SN_web_lightmode.png\" width=\"300\" alt=\"cognitiveclass.ai logo\"  />\n",
    "</center>\n"
   ]
  },
  {
   "cell_type": "markdown",
   "metadata": {},
   "source": [
    "# My Jupyter Notebook on IBM Watson Studio"
   ]
  },
  {
   "cell_type": "markdown",
   "metadata": {},
   "source": [
    "**Dr. A. Agnes Lydia** <br>\n",
    "Assistant Professor in the department of Artificial Intelligence"
   ]
  },
  {
   "cell_type": "markdown",
   "metadata": {},
   "source": [
    "*I'm interested to work in the field of Data Science, as it is very new and a fast blooming domain. It has scope for lot or learning and improvisation.*"
   ]
  },
  {
   "cell_type": "markdown",
   "metadata": {},
   "source": [
    "### This code will check the version of the python currently being used"
   ]
  },
  {
   "cell_type": "code",
   "execution_count": 4,
   "metadata": {},
   "outputs": [
    {
     "name": "stdout",
     "output_type": "stream",
     "text": [
      "3.7.12\n"
     ]
    }
   ],
   "source": [
    "from platform import python_version\n",
    "print(python_version())"
   ]
  },
  {
   "cell_type": "markdown",
   "metadata": {},
   "source": [
    "*This is an example of bulletin points\n",
    "- Point 1\n",
    "- Point 2\n",
    "\n",
    "*Horizontal Rule\n",
    "***\n",
    "\n",
    "\n",
    "*This is an example of numbered bulletin\n",
    "1. First point\n",
    "2. Second point\n",
    "\n",
    "*Tables\n",
    "|Column1 |Column2|\n",
    "|---|---|\n",
    "|Value 1|Value2|\n",
    "|---|---|\n",
    "\n",
    "*Hyperlinks\n",
    "[Click here](https://datacatalogs.org/)\n",
    "\n",
    "*Image\n",
    "\n",
    "<img src=\"https://1.cms.s81c.com/sites/default/files/2021-01-06/ICLH_Diagram_Batch_01_03-DeepNeuralNetwork-WHITEBG.png\" alt=\"Neural Network\" />\n",
    "\n",
    "*Blocked Codes\n",
    "```python\n",
    "from pyomo.environ import *\n",
    "model = Concretemodel()\n",
    "```\n",
    "\n",
    "*Strikethrough\n",
    "<strike>Strike-through."
   ]
  }
 ],
 "metadata": {
  "kernelspec": {
   "display_name": "Python",
   "language": "python",
   "name": "conda-env-python-py"
  },
  "language_info": {
   "codemirror_mode": {
    "name": "ipython",
    "version": 3
   },
   "file_extension": ".py",
   "mimetype": "text/x-python",
   "name": "python",
   "nbconvert_exporter": "python",
   "pygments_lexer": "ipython3",
   "version": "3.7.12"
  }
 },
 "nbformat": 4,
 "nbformat_minor": 4
}
